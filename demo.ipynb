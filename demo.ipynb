{
 "cells": [
  {
   "cell_type": "code",
   "execution_count": null,
   "id": "5c777150",
   "metadata": {},
   "outputs": [],
   "source": [
    "from pipelines.data_preparation_pipeline import DataPreparationPipeline\n",
    "from fake_news_classifier import FakeNewsClassifier\n",
    "import pandas as pd"
   ]
  },
  {
   "cell_type": "markdown",
   "id": "369e456f",
   "metadata": {},
   "source": [
    "# Load Data\n"
   ]
  },
  {
   "cell_type": "code",
   "execution_count": 2,
   "id": "71e469ef",
   "metadata": {},
   "outputs": [
    {
     "name": "stdout",
     "output_type": "stream",
     "text": [
      "#################### Data Preparation Pipeline  ####################\n",
      "===== Loading data... =====\n",
      "===== Applying label mapping... =====\n",
      "===== Splitting data... =====\n",
      "Data preparation pipeline completed.\n",
      "##################################################\n",
      "\n",
      "\n"
     ]
    }
   ],
   "source": [
    "data_preparation_pipeline = DataPreparationPipeline(\n",
    "    \"configs/pipelines_config/data_preparation_config.json\"\n",
    ")\n",
    "train_data, test_data, val_data = data_preparation_pipeline.run()"
   ]
  },
  {
   "cell_type": "markdown",
   "id": "66e9064b",
   "metadata": {},
   "source": [
    "# Apply Reverse Label Mapping\n"
   ]
  },
  {
   "cell_type": "code",
   "execution_count": 3,
   "id": "0391b914",
   "metadata": {},
   "outputs": [],
   "source": [
    "test_df = pd.DataFrame(test_data, columns=[\"content\", \"label\"])"
   ]
  },
  {
   "cell_type": "code",
   "execution_count": 4,
   "id": "030508ac",
   "metadata": {},
   "outputs": [],
   "source": [
    "label_mapping = {\n",
    "    \"reliable\": 0,\n",
    "    \"bias\": 1,\n",
    "    \"conspiracy\": 2,\n",
    "    \"fake\": 3,\n",
    "    \"rumor\": 4,\n",
    "    \"unreliable\": 5,\n",
    "    \"other\": 6,\n",
    "}"
   ]
  },
  {
   "cell_type": "code",
   "execution_count": 5,
   "id": "0cc6d443",
   "metadata": {},
   "outputs": [],
   "source": [
    "reverse_label_mapping = {v: k for k, v in label_mapping.items()}"
   ]
  },
  {
   "cell_type": "code",
   "execution_count": 6,
   "id": "69dbb857",
   "metadata": {},
   "outputs": [],
   "source": [
    "test_df[\"label\"] = test_df[\"label\"].map(reverse_label_mapping)"
   ]
  },
  {
   "cell_type": "markdown",
   "id": "6a5f939a",
   "metadata": {},
   "source": [
    "# Load Model\n"
   ]
  },
  {
   "cell_type": "code",
   "execution_count": 7,
   "id": "e9f10929",
   "metadata": {},
   "outputs": [],
   "source": [
    "classifier = FakeNewsClassifier(\n",
    "    \"configs/classifier_config.json\", test_df[\"label\"].nunique()\n",
    ")"
   ]
  },
  {
   "cell_type": "code",
   "execution_count": 8,
   "id": "64780f78",
   "metadata": {},
   "outputs": [
    {
     "name": "stdout",
     "output_type": "stream",
     "text": [
      "{'accuracy': 0.971296659262163, 'precision': np.float64(0.9713146285670903), 'recall': np.float64(0.971296659262163), 'f1_score': np.float64(0.9713005984735034)}\n",
      "Model loaded successfully from models/bert-bilstm-v9.pth\n"
     ]
    }
   ],
   "source": [
    "model = classifier.load_pretrained(\"models/bert-bilstm-v9.pth\")"
   ]
  },
  {
   "cell_type": "markdown",
   "id": "d5c8f265",
   "metadata": {},
   "source": [
    "# Inference\n"
   ]
  },
  {
   "cell_type": "markdown",
   "id": "a28424fe",
   "metadata": {},
   "source": [
    "### Reliable Article\n"
   ]
  },
  {
   "cell_type": "code",
   "execution_count": 9,
   "id": "420c649b",
   "metadata": {},
   "outputs": [],
   "source": [
    "reliable_article = test_df[test_df[\"label\"] == \"reliable\"].iloc[3]"
   ]
  },
  {
   "cell_type": "code",
   "execution_count": 10,
   "id": "65a18801",
   "metadata": {},
   "outputs": [
    {
     "name": "stdout",
     "output_type": "stream",
     "text": [
      "Omnisport [SEP] View photos\n",
      "Though he is taking a relaxed approach to the last year of his career, Usain Bolt expects to be at his best at the 2017 world championships More Usain Bolt insists he will be at the top of his game when he brings the curtain down on his glittering career at next year's World Championships.\n",
      "The legendary Jamaican sprinter completed the triple-triple at Rio 2016, taking his tally of Olympic gold medals to nine, and is set to retire after the World Championships in London in August.\n",
      "Bolt says he is feeling less pressure heading into the final year of his career and has changed his approach to his training programme, but that has not altered what he expects of himself.\n",
      "Speaking at a media conference ahead of the premiere of the documentary film 'I Aam Bolt', he was asked if he had any fear that the likes of Andre De Grasse and Justin Gatlin could defeat him.\n",
      "\"I'm not worried. I am always going to be prepared, I still never want to lose, we're just trying to find a less harder a method of working,\" Bolt replied.\n",
      "\"We're working on different ways of training but I will definitely be at the top of my game when it comes to the championships.\n",
      "\"I still want to go and compete at my best but it's not so much pressure as it was for the past eight years. I'm just training hard as I always do and the goal is to compete at my best as always.\"\n",
      "Pressed on why he is still carrying on in the sport, Bolt added: \"It's mostly for the fans, this year there is no pressure, I'm much more relaxed. It's not going to be as intense as the season before.\n",
      "\"There's a few people that - my friends, my close friends - that have never seen me compete live so I'm giving people the opportunity to come see me in my last world championships and my last run in Jamaica.\"\n",
      "Bolt particularly enjoyed his experience at London 2012 and sees the city as an ideal venue for his swansong.\n",
      "\"I've always said it's a good place to hang up my shoes. I came in the Olympics and it was just magnificent,\" Bolt said.\n",
      "\"I know the energy they're going to bring for the world championships so it's a good place to retire.\"\n",
      "\"I AM BOLT is available now on digital download, Blu-Ray and DVD\"\n"
     ]
    }
   ],
   "source": [
    "print(reliable_article[\"content\"])"
   ]
  },
  {
   "cell_type": "code",
   "execution_count": 11,
   "id": "31117ea6",
   "metadata": {},
   "outputs": [
    {
     "name": "stderr",
     "output_type": "stream",
     "text": [
      "Testing: 100%|██████████| 1/1 [00:10<00:00, 10.44s/it]\n"
     ]
    }
   ],
   "source": [
    "prediction = model.predict(pd.Series(reliable_article[\"content\"]))"
   ]
  },
  {
   "cell_type": "code",
   "execution_count": 12,
   "id": "80998792",
   "metadata": {},
   "outputs": [
    {
     "name": "stdout",
     "output_type": "stream",
     "text": [
      "reliable\n"
     ]
    }
   ],
   "source": [
    "print(reverse_label_mapping[prediction[0]])"
   ]
  },
  {
   "cell_type": "markdown",
   "id": "5b053f38",
   "metadata": {},
   "source": [
    "### Fake Article\n"
   ]
  },
  {
   "cell_type": "code",
   "execution_count": 13,
   "id": "d27b2a57",
   "metadata": {},
   "outputs": [],
   "source": [
    "fake_article = test_df[test_df[\"label\"] == \"fake\"].iloc[0]"
   ]
  },
  {
   "cell_type": "code",
   "execution_count": 14,
   "id": "bf1054cc",
   "metadata": {},
   "outputs": [
    {
     "name": "stdout",
     "output_type": "stream",
     "text": [
      "The Real Revo [SEP] (Before It's News)\n",
      "\n",
      "RINOs take phones off the hook.\n",
      "\n",
      "Following the epic, 21-hour speech by Sen. Ted Cruz, R-Texas, supporting the defunding of Obamacare, either voters made so many calls to establishment Republicans that their phone lines melted, or those GOP leaders took their phones off the hook.\n",
      "\n",
      "Even in this age of digital wizardry and limitless voicemail, callers could not get through at all to Sen. Minority Leader Mitch McConnell, R-Ky.\n",
      "\n",
      "A message said the senator was experiencing a high volume of calls and directed members of the public to call back later or visit his website.\n",
      "\n",
      "It was the same story with the man who was the face of the GOP in the 2008 elections, former GOP presidential candidate Sen. John McCain, R-Ariz.\n",
      "\n",
      "His phone was off the hook, too. Callers got a message stating his voicemail box was full.\n"
     ]
    }
   ],
   "source": [
    "print(fake_article[\"content\"])"
   ]
  },
  {
   "cell_type": "code",
   "execution_count": 15,
   "id": "1d7f78c7",
   "metadata": {},
   "outputs": [
    {
     "name": "stderr",
     "output_type": "stream",
     "text": [
      "Testing: 100%|██████████| 1/1 [00:09<00:00,  9.99s/it]\n"
     ]
    }
   ],
   "source": [
    "prediction = model.predict(pd.Series(fake_article[\"content\"]))"
   ]
  },
  {
   "cell_type": "code",
   "execution_count": 16,
   "id": "a4d24c37",
   "metadata": {},
   "outputs": [
    {
     "name": "stdout",
     "output_type": "stream",
     "text": [
      "fake\n"
     ]
    }
   ],
   "source": [
    "print(reverse_label_mapping[prediction[0]])"
   ]
  }
 ],
 "metadata": {
  "kernelspec": {
   "display_name": "Python 3",
   "language": "python",
   "name": "python3"
  },
  "language_info": {
   "codemirror_mode": {
    "name": "ipython",
    "version": 3
   },
   "file_extension": ".py",
   "mimetype": "text/x-python",
   "name": "python",
   "nbconvert_exporter": "python",
   "pygments_lexer": "ipython3",
   "version": "3.12.10"
  }
 },
 "nbformat": 4,
 "nbformat_minor": 5
}
