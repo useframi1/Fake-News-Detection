{
 "cells": [
  {
   "cell_type": "code",
   "execution_count": 15,
   "metadata": {},
   "outputs": [],
   "source": [
    "import pandas as pd\n",
    "import plotly.express as px\n",
    "import plotly.colors as pc"
   ]
  },
  {
   "cell_type": "code",
   "execution_count": 2,
   "metadata": {},
   "outputs": [],
   "source": [
    "df = pd.read_csv(\"data/news_dataset_all_refactored.csv\")"
   ]
  },
  {
   "cell_type": "code",
   "execution_count": 3,
   "metadata": {},
   "outputs": [
    {
     "data": {
      "application/vnd.microsoft.datawrangler.viewer.v0+json": {
       "columns": [
        {
         "name": "index",
         "rawType": "int64",
         "type": "integer"
        },
        {
         "name": "content",
         "rawType": "object",
         "type": "string"
        },
        {
         "name": "domain",
         "rawType": "object",
         "type": "string"
        },
        {
         "name": "authors",
         "rawType": "object",
         "type": "string"
        },
        {
         "name": "type",
         "rawType": "object",
         "type": "string"
        }
       ],
       "conversionMethod": "pd.DataFrame",
       "ref": "3ccb91bf-9c42-47bf-9d08-620db3d1c453",
       "rows": [
        [
         "0",
         "Life is an illusion, at least on a quantum level, in a theory which has recently been confirmed by a set of researchers.\n\nThey finally have the means to test John Wheeler’s delayed-choice theory and concluded that the physicist was right.\n\nIn 1978, Mr Wheeler’s proposed experiment involved a moving object that was given the choice to act like a wave or a particle – the former acting as a vibration with a frequency that can distinguish it from other waves and the latter having no frequency that you can determine its position in space, unlike a wave – and at what point does it ‘decide’ to act like one or the other.\n\nAt the time, the technology was not available to conduct a strong experiment, but scientists have now been able to carry it out.",
         "express.co.uk",
         "Sean Martin",
         "rumor"
        ],
        [
         "1",
         "For as long as he can remember, Malcolm Turnbull has wanted to be an inconsequential, powerless leader at the beck and call of a small...",
         "theshovel.com.au",
         "The Shovel",
         "other"
        ],
        [
         "2",
         "Senators from the Australian Greens will be stamped with their country of origin from next week, to help them remember where they come from.",
         "theshovel.com.au",
         "The Shovel",
         "other"
        ],
        [
         "3",
         "Headline: Bitcoin & Blockchain Searches Exceed Trump! Blockchain Stocks Are Next!\n\nQuite frankly, I’m surprised it has half left. This is a country that cannot even produce toilet paper and beer. And they’re stealing zoo animals for food. Here we have a Progressive/Marxist/Socialist station (CNN) telling us about how bad things are in a PMS nation\n\nHalf the Venezuelan economy has disappeared\n\nIt’s getting worse. Unemployment will reach 30% and prices on all types of goods in the country will rise 13,000% this year, according to new figures published Thursday by the International Monetary Fund.\n\nThe IMF’s economist for the Western Hemisphere, Alejandro Werner, put Venezuela’s future bluntly.\n\n“In Venezuela, the crisis continues,” Werner said in a blog post. He added that inflation is skyrocketing this year because of “the loss of confidence in the nation’s currency.”\n\nThis year will mark the third consecutive year of double-digit contractions in Venezuela’s gross domestic product, the broadest measure of economic activity. The nation’s GDP declined 16% in 2016, 14% last year and it’s projected to fall 15% this year, according to the IMF.\n\nVenezuela is deep into an economic, political and humanitarian crisis, largely inflicted by the government’s own policies, economists say. Food and medical shortages are widespread. People are scavenging for food in dumpsters. Citizens are fleeing by the thousands. The currency, the bolivar, is nearly worthless. The government has defaulted on its debt. World leaders are calling President Nicolas Maduro a dictator.",
         "beforeitsnews.com",
         "The Pirate'S Cove",
         "fake"
        ],
        [
         "4",
         "Red Alert: Bond Yields Are SCREAMING “Inflation is coming!”\n\nHeadline: Bitcoin & Blockchain Searches Exceed Trump! Blockchain Stocks Are Next!\n\nLove it, or hate it, the $USD is the reserve currency of the world. So what happens to it is of MASSIVE import to the rest of the financial system. With that in mind, take a look at the below chart. This is looking more and more like a “false breakout.” False breakouts are dangerous\n\nThe post Red Alert: Bond Yields Are SCREAMING “Inflation is coming!” appeared first on Gains Pains & Capital.\n\nSource: http://gainspainscapital.com/2018/01/25/red-alert-bond-yields-screaming-inflation-coming/",
         "beforeitsnews.com",
         "Phoenix Capital Research",
         "fake"
        ]
       ],
       "shape": {
        "columns": 4,
        "rows": 5
       }
      },
      "text/html": [
       "<div>\n",
       "<style scoped>\n",
       "    .dataframe tbody tr th:only-of-type {\n",
       "        vertical-align: middle;\n",
       "    }\n",
       "\n",
       "    .dataframe tbody tr th {\n",
       "        vertical-align: top;\n",
       "    }\n",
       "\n",
       "    .dataframe thead th {\n",
       "        text-align: right;\n",
       "    }\n",
       "</style>\n",
       "<table border=\"1\" class=\"dataframe\">\n",
       "  <thead>\n",
       "    <tr style=\"text-align: right;\">\n",
       "      <th></th>\n",
       "      <th>content</th>\n",
       "      <th>domain</th>\n",
       "      <th>authors</th>\n",
       "      <th>type</th>\n",
       "    </tr>\n",
       "  </thead>\n",
       "  <tbody>\n",
       "    <tr>\n",
       "      <th>0</th>\n",
       "      <td>Life is an illusion, at least on a quantum lev...</td>\n",
       "      <td>express.co.uk</td>\n",
       "      <td>Sean Martin</td>\n",
       "      <td>rumor</td>\n",
       "    </tr>\n",
       "    <tr>\n",
       "      <th>1</th>\n",
       "      <td>For as long as he can remember, Malcolm Turnbu...</td>\n",
       "      <td>theshovel.com.au</td>\n",
       "      <td>The Shovel</td>\n",
       "      <td>other</td>\n",
       "    </tr>\n",
       "    <tr>\n",
       "      <th>2</th>\n",
       "      <td>Senators from the Australian Greens will be st...</td>\n",
       "      <td>theshovel.com.au</td>\n",
       "      <td>The Shovel</td>\n",
       "      <td>other</td>\n",
       "    </tr>\n",
       "    <tr>\n",
       "      <th>3</th>\n",
       "      <td>Headline: Bitcoin &amp; Blockchain Searches Exceed...</td>\n",
       "      <td>beforeitsnews.com</td>\n",
       "      <td>The Pirate'S Cove</td>\n",
       "      <td>fake</td>\n",
       "    </tr>\n",
       "    <tr>\n",
       "      <th>4</th>\n",
       "      <td>Red Alert: Bond Yields Are SCREAMING “Inflatio...</td>\n",
       "      <td>beforeitsnews.com</td>\n",
       "      <td>Phoenix Capital Research</td>\n",
       "      <td>fake</td>\n",
       "    </tr>\n",
       "  </tbody>\n",
       "</table>\n",
       "</div>"
      ],
      "text/plain": [
       "                                             content             domain  \\\n",
       "0  Life is an illusion, at least on a quantum lev...      express.co.uk   \n",
       "1  For as long as he can remember, Malcolm Turnbu...   theshovel.com.au   \n",
       "2  Senators from the Australian Greens will be st...   theshovel.com.au   \n",
       "3  Headline: Bitcoin & Blockchain Searches Exceed...  beforeitsnews.com   \n",
       "4  Red Alert: Bond Yields Are SCREAMING “Inflatio...  beforeitsnews.com   \n",
       "\n",
       "                    authors   type  \n",
       "0               Sean Martin  rumor  \n",
       "1                The Shovel  other  \n",
       "2                The Shovel  other  \n",
       "3         The Pirate'S Cove   fake  \n",
       "4  Phoenix Capital Research   fake  "
      ]
     },
     "execution_count": 3,
     "metadata": {},
     "output_type": "execute_result"
    }
   ],
   "source": [
    "df.head()"
   ]
  },
  {
   "cell_type": "code",
   "execution_count": 4,
   "metadata": {},
   "outputs": [
    {
     "name": "stdout",
     "output_type": "stream",
     "text": [
      "<class 'pandas.core.frame.DataFrame'>\n",
      "RangeIndex: 2468197 entries, 0 to 2468196\n",
      "Data columns (total 4 columns):\n",
      " #   Column   Dtype \n",
      "---  ------   ----- \n",
      " 0   content  object\n",
      " 1   domain   object\n",
      " 2   authors  object\n",
      " 3   type     object\n",
      "dtypes: object(4)\n",
      "memory usage: 75.3+ MB\n"
     ]
    }
   ],
   "source": [
    "df.info()"
   ]
  },
  {
   "cell_type": "code",
   "execution_count": 12,
   "metadata": {},
   "outputs": [],
   "source": [
    "# Calculate the count of each domain, normalized to get proportions\n",
    "domain_counts = df[\"domain\"].value_counts(normalize=True)\n",
    "\n",
    "# Filter out domains that are less than 1% of the data\n",
    "valid_domains = domain_counts[domain_counts > 0.01].index\n",
    "\n",
    "# Filter the dataframe to include only rows with valid domains\n",
    "df_filtered = df[df[\"domain\"].isin(valid_domains)]"
   ]
  },
  {
   "cell_type": "code",
   "execution_count": 13,
   "metadata": {},
   "outputs": [],
   "source": [
    "prop_df = df_filtered.groupby([\"type\", \"domain\"]).size().reset_index(name=\"count\")\n",
    "prop_df[\"proportion\"] = prop_df.groupby(\"type\")[\"count\"].transform(\n",
    "    lambda x: x / x.sum()\n",
    ")"
   ]
  },
  {
   "cell_type": "code",
   "execution_count": 19,
   "metadata": {},
   "outputs": [
    {
     "data": {
      "application/vnd.plotly.v1+json": {
       "config": {
        "plotlyServerURL": "https://plot.ly"
       },
       "data": [
        {
         "alignmentgroup": "True",
         "hovertemplate": "domain=conservapedia.com<br>type=%{x}<br>proportion=%{y}<extra></extra>",
         "legendgroup": "conservapedia.com",
         "marker": {
          "color": "#fdd1cd",
          "pattern": {
           "shape": ""
          }
         },
         "name": "conservapedia.com",
         "offsetgroup": "conservapedia.com",
         "orientation": "v",
         "showlegend": true,
         "textposition": "auto",
         "type": "bar",
         "x": [
          "bias"
         ],
         "xaxis": "x",
         "y": [
          0.1772595162797844
         ],
         "yaxis": "y"
        },
        {
         "alignmentgroup": "True",
         "hovertemplate": "domain=sputniknews.com<br>type=%{x}<br>proportion=%{y}<extra></extra>",
         "legendgroup": "sputniknews.com",
         "marker": {
          "color": "#fba49c",
          "pattern": {
           "shape": ""
          }
         },
         "name": "sputniknews.com",
         "offsetgroup": "sputniknews.com",
         "orientation": "v",
         "showlegend": true,
         "textposition": "auto",
         "type": "bar",
         "x": [
          "bias"
         ],
         "xaxis": "x",
         "y": [
          0.8227404837202156
         ],
         "yaxis": "y"
        },
        {
         "alignmentgroup": "True",
         "hovertemplate": "domain=abovetopsecret.com<br>type=%{x}<br>proportion=%{y}<extra></extra>",
         "legendgroup": "abovetopsecret.com",
         "marker": {
          "color": "#f97b70",
          "pattern": {
           "shape": ""
          }
         },
         "name": "abovetopsecret.com",
         "offsetgroup": "abovetopsecret.com",
         "orientation": "v",
         "showlegend": true,
         "textposition": "auto",
         "type": "bar",
         "x": [
          "conspiracy"
         ],
         "xaxis": "x",
         "y": [
          0.820203113649636
         ],
         "yaxis": "y"
        },
        {
         "alignmentgroup": "True",
         "hovertemplate": "domain=wikispooks.com<br>type=%{x}<br>proportion=%{y}<extra></extra>",
         "legendgroup": "wikispooks.com",
         "marker": {
          "color": "#f75e53",
          "pattern": {
           "shape": ""
          }
         },
         "name": "wikispooks.com",
         "offsetgroup": "wikispooks.com",
         "orientation": "v",
         "showlegend": true,
         "textposition": "auto",
         "type": "bar",
         "x": [
          "conspiracy"
         ],
         "xaxis": "x",
         "y": [
          0.17979688635036392
         ],
         "yaxis": "y"
        },
        {
         "alignmentgroup": "True",
         "hovertemplate": "domain=beforeitsnews.com<br>type=%{x}<br>proportion=%{y}<extra></extra>",
         "legendgroup": "beforeitsnews.com",
         "marker": {
          "color": "#f25c4e",
          "pattern": {
           "shape": ""
          }
         },
         "name": "beforeitsnews.com",
         "offsetgroup": "beforeitsnews.com",
         "orientation": "v",
         "showlegend": true,
         "textposition": "auto",
         "type": "bar",
         "x": [
          "fake"
         ],
         "xaxis": "x",
         "y": [
          1
         ],
         "yaxis": "y"
        },
        {
         "alignmentgroup": "True",
         "hovertemplate": "domain=nytimes.com<br>type=%{x}<br>proportion=%{y}<extra></extra>",
         "legendgroup": "nytimes.com",
         "marker": {
          "color": "#d74f43",
          "pattern": {
           "shape": ""
          }
         },
         "name": "nytimes.com",
         "offsetgroup": "nytimes.com",
         "orientation": "v",
         "showlegend": true,
         "textposition": "auto",
         "type": "bar",
         "x": [
          "reliable"
         ],
         "xaxis": "x",
         "y": [
          0.9658664188615402
         ],
         "yaxis": "y"
        },
        {
         "alignmentgroup": "True",
         "hovertemplate": "domain=www.reuters.com<br>type=%{x}<br>proportion=%{y}<extra></extra>",
         "legendgroup": "www.reuters.com",
         "marker": {
          "color": "#b54137",
          "pattern": {
           "shape": ""
          }
         },
         "name": "www.reuters.com",
         "offsetgroup": "www.reuters.com",
         "orientation": "v",
         "showlegend": true,
         "textposition": "auto",
         "type": "bar",
         "x": [
          "reliable"
         ],
         "xaxis": "x",
         "y": [
          0.0341335811384598
         ],
         "yaxis": "y"
        },
        {
         "alignmentgroup": "True",
         "hovertemplate": "domain=express.co.uk<br>type=%{x}<br>proportion=%{y}<extra></extra>",
         "legendgroup": "express.co.uk",
         "marker": {
          "color": "#912e2b",
          "pattern": {
           "shape": ""
          }
         },
         "name": "express.co.uk",
         "offsetgroup": "express.co.uk",
         "orientation": "v",
         "showlegend": true,
         "textposition": "auto",
         "type": "bar",
         "x": [
          "rumor"
         ],
         "xaxis": "x",
         "y": [
          1
         ],
         "yaxis": "y"
        }
       ],
       "layout": {
        "barmode": "group",
        "font": {
         "color": "white"
        },
        "legend": {
         "title": {
          "text": "Domain"
         },
         "tracegroupgap": 0,
         "x": 1,
         "y": 1
        },
        "margin": {
         "t": 60
        },
        "paper_bgcolor": "rgba(0,0,0,0)",
        "plot_bgcolor": "rgba(0,0,0,0)",
        "template": {
         "data": {
          "bar": [
           {
            "error_x": {
             "color": "#2a3f5f"
            },
            "error_y": {
             "color": "#2a3f5f"
            },
            "marker": {
             "line": {
              "color": "#E5ECF6",
              "width": 0.5
             },
             "pattern": {
              "fillmode": "overlay",
              "size": 10,
              "solidity": 0.2
             }
            },
            "type": "bar"
           }
          ],
          "barpolar": [
           {
            "marker": {
             "line": {
              "color": "#E5ECF6",
              "width": 0.5
             },
             "pattern": {
              "fillmode": "overlay",
              "size": 10,
              "solidity": 0.2
             }
            },
            "type": "barpolar"
           }
          ],
          "carpet": [
           {
            "aaxis": {
             "endlinecolor": "#2a3f5f",
             "gridcolor": "white",
             "linecolor": "white",
             "minorgridcolor": "white",
             "startlinecolor": "#2a3f5f"
            },
            "baxis": {
             "endlinecolor": "#2a3f5f",
             "gridcolor": "white",
             "linecolor": "white",
             "minorgridcolor": "white",
             "startlinecolor": "#2a3f5f"
            },
            "type": "carpet"
           }
          ],
          "choropleth": [
           {
            "colorbar": {
             "outlinewidth": 0,
             "ticks": ""
            },
            "type": "choropleth"
           }
          ],
          "contour": [
           {
            "colorbar": {
             "outlinewidth": 0,
             "ticks": ""
            },
            "colorscale": [
             [
              0,
              "#0d0887"
             ],
             [
              0.1111111111111111,
              "#46039f"
             ],
             [
              0.2222222222222222,
              "#7201a8"
             ],
             [
              0.3333333333333333,
              "#9c179e"
             ],
             [
              0.4444444444444444,
              "#bd3786"
             ],
             [
              0.5555555555555556,
              "#d8576b"
             ],
             [
              0.6666666666666666,
              "#ed7953"
             ],
             [
              0.7777777777777778,
              "#fb9f3a"
             ],
             [
              0.8888888888888888,
              "#fdca26"
             ],
             [
              1,
              "#f0f921"
             ]
            ],
            "type": "contour"
           }
          ],
          "contourcarpet": [
           {
            "colorbar": {
             "outlinewidth": 0,
             "ticks": ""
            },
            "type": "contourcarpet"
           }
          ],
          "heatmap": [
           {
            "colorbar": {
             "outlinewidth": 0,
             "ticks": ""
            },
            "colorscale": [
             [
              0,
              "#0d0887"
             ],
             [
              0.1111111111111111,
              "#46039f"
             ],
             [
              0.2222222222222222,
              "#7201a8"
             ],
             [
              0.3333333333333333,
              "#9c179e"
             ],
             [
              0.4444444444444444,
              "#bd3786"
             ],
             [
              0.5555555555555556,
              "#d8576b"
             ],
             [
              0.6666666666666666,
              "#ed7953"
             ],
             [
              0.7777777777777778,
              "#fb9f3a"
             ],
             [
              0.8888888888888888,
              "#fdca26"
             ],
             [
              1,
              "#f0f921"
             ]
            ],
            "type": "heatmap"
           }
          ],
          "heatmapgl": [
           {
            "colorbar": {
             "outlinewidth": 0,
             "ticks": ""
            },
            "colorscale": [
             [
              0,
              "#0d0887"
             ],
             [
              0.1111111111111111,
              "#46039f"
             ],
             [
              0.2222222222222222,
              "#7201a8"
             ],
             [
              0.3333333333333333,
              "#9c179e"
             ],
             [
              0.4444444444444444,
              "#bd3786"
             ],
             [
              0.5555555555555556,
              "#d8576b"
             ],
             [
              0.6666666666666666,
              "#ed7953"
             ],
             [
              0.7777777777777778,
              "#fb9f3a"
             ],
             [
              0.8888888888888888,
              "#fdca26"
             ],
             [
              1,
              "#f0f921"
             ]
            ],
            "type": "heatmapgl"
           }
          ],
          "histogram": [
           {
            "marker": {
             "pattern": {
              "fillmode": "overlay",
              "size": 10,
              "solidity": 0.2
             }
            },
            "type": "histogram"
           }
          ],
          "histogram2d": [
           {
            "colorbar": {
             "outlinewidth": 0,
             "ticks": ""
            },
            "colorscale": [
             [
              0,
              "#0d0887"
             ],
             [
              0.1111111111111111,
              "#46039f"
             ],
             [
              0.2222222222222222,
              "#7201a8"
             ],
             [
              0.3333333333333333,
              "#9c179e"
             ],
             [
              0.4444444444444444,
              "#bd3786"
             ],
             [
              0.5555555555555556,
              "#d8576b"
             ],
             [
              0.6666666666666666,
              "#ed7953"
             ],
             [
              0.7777777777777778,
              "#fb9f3a"
             ],
             [
              0.8888888888888888,
              "#fdca26"
             ],
             [
              1,
              "#f0f921"
             ]
            ],
            "type": "histogram2d"
           }
          ],
          "histogram2dcontour": [
           {
            "colorbar": {
             "outlinewidth": 0,
             "ticks": ""
            },
            "colorscale": [
             [
              0,
              "#0d0887"
             ],
             [
              0.1111111111111111,
              "#46039f"
             ],
             [
              0.2222222222222222,
              "#7201a8"
             ],
             [
              0.3333333333333333,
              "#9c179e"
             ],
             [
              0.4444444444444444,
              "#bd3786"
             ],
             [
              0.5555555555555556,
              "#d8576b"
             ],
             [
              0.6666666666666666,
              "#ed7953"
             ],
             [
              0.7777777777777778,
              "#fb9f3a"
             ],
             [
              0.8888888888888888,
              "#fdca26"
             ],
             [
              1,
              "#f0f921"
             ]
            ],
            "type": "histogram2dcontour"
           }
          ],
          "mesh3d": [
           {
            "colorbar": {
             "outlinewidth": 0,
             "ticks": ""
            },
            "type": "mesh3d"
           }
          ],
          "parcoords": [
           {
            "line": {
             "colorbar": {
              "outlinewidth": 0,
              "ticks": ""
             }
            },
            "type": "parcoords"
           }
          ],
          "pie": [
           {
            "automargin": true,
            "type": "pie"
           }
          ],
          "scatter": [
           {
            "fillpattern": {
             "fillmode": "overlay",
             "size": 10,
             "solidity": 0.2
            },
            "type": "scatter"
           }
          ],
          "scatter3d": [
           {
            "line": {
             "colorbar": {
              "outlinewidth": 0,
              "ticks": ""
             }
            },
            "marker": {
             "colorbar": {
              "outlinewidth": 0,
              "ticks": ""
             }
            },
            "type": "scatter3d"
           }
          ],
          "scattercarpet": [
           {
            "marker": {
             "colorbar": {
              "outlinewidth": 0,
              "ticks": ""
             }
            },
            "type": "scattercarpet"
           }
          ],
          "scattergeo": [
           {
            "marker": {
             "colorbar": {
              "outlinewidth": 0,
              "ticks": ""
             }
            },
            "type": "scattergeo"
           }
          ],
          "scattergl": [
           {
            "marker": {
             "colorbar": {
              "outlinewidth": 0,
              "ticks": ""
             }
            },
            "type": "scattergl"
           }
          ],
          "scattermapbox": [
           {
            "marker": {
             "colorbar": {
              "outlinewidth": 0,
              "ticks": ""
             }
            },
            "type": "scattermapbox"
           }
          ],
          "scatterpolar": [
           {
            "marker": {
             "colorbar": {
              "outlinewidth": 0,
              "ticks": ""
             }
            },
            "type": "scatterpolar"
           }
          ],
          "scatterpolargl": [
           {
            "marker": {
             "colorbar": {
              "outlinewidth": 0,
              "ticks": ""
             }
            },
            "type": "scatterpolargl"
           }
          ],
          "scatterternary": [
           {
            "marker": {
             "colorbar": {
              "outlinewidth": 0,
              "ticks": ""
             }
            },
            "type": "scatterternary"
           }
          ],
          "surface": [
           {
            "colorbar": {
             "outlinewidth": 0,
             "ticks": ""
            },
            "colorscale": [
             [
              0,
              "#0d0887"
             ],
             [
              0.1111111111111111,
              "#46039f"
             ],
             [
              0.2222222222222222,
              "#7201a8"
             ],
             [
              0.3333333333333333,
              "#9c179e"
             ],
             [
              0.4444444444444444,
              "#bd3786"
             ],
             [
              0.5555555555555556,
              "#d8576b"
             ],
             [
              0.6666666666666666,
              "#ed7953"
             ],
             [
              0.7777777777777778,
              "#fb9f3a"
             ],
             [
              0.8888888888888888,
              "#fdca26"
             ],
             [
              1,
              "#f0f921"
             ]
            ],
            "type": "surface"
           }
          ],
          "table": [
           {
            "cells": {
             "fill": {
              "color": "#EBF0F8"
             },
             "line": {
              "color": "white"
             }
            },
            "header": {
             "fill": {
              "color": "#C8D4E3"
             },
             "line": {
              "color": "white"
             }
            },
            "type": "table"
           }
          ]
         },
         "layout": {
          "annotationdefaults": {
           "arrowcolor": "#2a3f5f",
           "arrowhead": 0,
           "arrowwidth": 1
          },
          "autotypenumbers": "strict",
          "coloraxis": {
           "colorbar": {
            "outlinewidth": 0,
            "ticks": ""
           }
          },
          "colorscale": {
           "diverging": [
            [
             0,
             "#8e0152"
            ],
            [
             0.1,
             "#c51b7d"
            ],
            [
             0.2,
             "#de77ae"
            ],
            [
             0.3,
             "#f1b6da"
            ],
            [
             0.4,
             "#fde0ef"
            ],
            [
             0.5,
             "#f7f7f7"
            ],
            [
             0.6,
             "#e6f5d0"
            ],
            [
             0.7,
             "#b8e186"
            ],
            [
             0.8,
             "#7fbc41"
            ],
            [
             0.9,
             "#4d9221"
            ],
            [
             1,
             "#276419"
            ]
           ],
           "sequential": [
            [
             0,
             "#0d0887"
            ],
            [
             0.1111111111111111,
             "#46039f"
            ],
            [
             0.2222222222222222,
             "#7201a8"
            ],
            [
             0.3333333333333333,
             "#9c179e"
            ],
            [
             0.4444444444444444,
             "#bd3786"
            ],
            [
             0.5555555555555556,
             "#d8576b"
            ],
            [
             0.6666666666666666,
             "#ed7953"
            ],
            [
             0.7777777777777778,
             "#fb9f3a"
            ],
            [
             0.8888888888888888,
             "#fdca26"
            ],
            [
             1,
             "#f0f921"
            ]
           ],
           "sequentialminus": [
            [
             0,
             "#0d0887"
            ],
            [
             0.1111111111111111,
             "#46039f"
            ],
            [
             0.2222222222222222,
             "#7201a8"
            ],
            [
             0.3333333333333333,
             "#9c179e"
            ],
            [
             0.4444444444444444,
             "#bd3786"
            ],
            [
             0.5555555555555556,
             "#d8576b"
            ],
            [
             0.6666666666666666,
             "#ed7953"
            ],
            [
             0.7777777777777778,
             "#fb9f3a"
            ],
            [
             0.8888888888888888,
             "#fdca26"
            ],
            [
             1,
             "#f0f921"
            ]
           ]
          },
          "colorway": [
           "#636efa",
           "#EF553B",
           "#00cc96",
           "#ab63fa",
           "#FFA15A",
           "#19d3f3",
           "#FF6692",
           "#B6E880",
           "#FF97FF",
           "#FECB52"
          ],
          "font": {
           "color": "#2a3f5f"
          },
          "geo": {
           "bgcolor": "white",
           "lakecolor": "white",
           "landcolor": "#E5ECF6",
           "showlakes": true,
           "showland": true,
           "subunitcolor": "white"
          },
          "hoverlabel": {
           "align": "left"
          },
          "hovermode": "closest",
          "mapbox": {
           "style": "light"
          },
          "paper_bgcolor": "white",
          "plot_bgcolor": "#E5ECF6",
          "polar": {
           "angularaxis": {
            "gridcolor": "white",
            "linecolor": "white",
            "ticks": ""
           },
           "bgcolor": "#E5ECF6",
           "radialaxis": {
            "gridcolor": "white",
            "linecolor": "white",
            "ticks": ""
           }
          },
          "scene": {
           "xaxis": {
            "backgroundcolor": "#E5ECF6",
            "gridcolor": "white",
            "gridwidth": 2,
            "linecolor": "white",
            "showbackground": true,
            "ticks": "",
            "zerolinecolor": "white"
           },
           "yaxis": {
            "backgroundcolor": "#E5ECF6",
            "gridcolor": "white",
            "gridwidth": 2,
            "linecolor": "white",
            "showbackground": true,
            "ticks": "",
            "zerolinecolor": "white"
           },
           "zaxis": {
            "backgroundcolor": "#E5ECF6",
            "gridcolor": "white",
            "gridwidth": 2,
            "linecolor": "white",
            "showbackground": true,
            "ticks": "",
            "zerolinecolor": "white"
           }
          },
          "shapedefaults": {
           "line": {
            "color": "#2a3f5f"
           }
          },
          "ternary": {
           "aaxis": {
            "gridcolor": "white",
            "linecolor": "white",
            "ticks": ""
           },
           "baxis": {
            "gridcolor": "white",
            "linecolor": "white",
            "ticks": ""
           },
           "bgcolor": "#E5ECF6",
           "caxis": {
            "gridcolor": "white",
            "linecolor": "white",
            "ticks": ""
           }
          },
          "title": {
           "x": 0.05
          },
          "xaxis": {
           "automargin": true,
           "gridcolor": "white",
           "linecolor": "white",
           "ticks": "",
           "title": {
            "standoff": 15
           },
           "zerolinecolor": "white",
           "zerolinewidth": 2
          },
          "yaxis": {
           "automargin": true,
           "gridcolor": "white",
           "linecolor": "white",
           "ticks": "",
           "title": {
            "standoff": 15
           },
           "zerolinecolor": "white",
           "zerolinewidth": 2
          }
         }
        },
        "title": {
         "x": 0.5
        },
        "xaxis": {
         "anchor": "y",
         "domain": [
          0,
          1
         ],
         "title": {
          "text": "Type"
         }
        },
        "yaxis": {
         "anchor": "x",
         "domain": [
          0,
          1
         ],
         "title": {
          "text": "Proportion"
         }
        }
       }
      }
     },
     "metadata": {},
     "output_type": "display_data"
    }
   ],
   "source": [
    "color_discrete_sequence = [\n",
    "    \"#fdd1cd\",\n",
    "    \"#fba49c\",\n",
    "    \"#f97b70\",\n",
    "    \"#f75e53\",\n",
    "    \"#f25c4e\",\n",
    "    \"#d74f43\",\n",
    "    \"#b54137\",\n",
    "    \"#912e2b\",\n",
    "]\n",
    "\n",
    "fig = px.bar(\n",
    "    prop_df,\n",
    "    x=\"type\",\n",
    "    y=\"proportion\",\n",
    "    color=\"domain\",\n",
    "    barmode=\"group\",\n",
    "    color_discrete_sequence=color_discrete_sequence,\n",
    ")\n",
    "\n",
    "# Update layout for white text and transparent background\n",
    "fig.update_layout(\n",
    "    plot_bgcolor=\"rgba(0,0,0,0)\",\n",
    "    paper_bgcolor=\"rgba(0,0,0,0)\",\n",
    "    font=dict(color=\"white\"),\n",
    "    title=dict(x=0.5),\n",
    "    legend_title_text=\"Domain\",\n",
    "    legend=dict(x=1, y=1),\n",
    "    xaxis=dict(title=\"Type\"),\n",
    "    yaxis=dict(title=\"Proportion\"),\n",
    ")\n",
    "\n",
    "fig.show()"
   ]
  },
  {
   "cell_type": "code",
   "execution_count": 22,
   "metadata": {},
   "outputs": [
    {
     "data": {
      "text/plain": [
       "authors\n",
       "unknown                                                                                                        5.124222e-01\n",
       "The Associated Press                                                                                           2.326273e-02\n",
       "Truth Broadcast Network                                                                                        9.287751e-03\n",
       "The Phaser                                                                                                     6.842647e-03\n",
       "Posted On                                                                                                      4.647117e-03\n",
       "                                                                                                                   ...     \n",
       "Geoff Ho, Richard Branson                                                                                      4.051540e-07\n",
       "Budhaditya Bhattacharjee, Shaurya Arya, Debleena Sarkar, Nico Parungo, Necta Casiple, Jennifer Ong             4.051540e-07\n",
       "Shiladitya Basu, Jenny Grace, Debleena Sarkar, Barnali Pal Sinha, Nico Parungo, Necta Casiple, Jennifer Ong    4.051540e-07\n",
       "Shiladitya Basu, Jenny Grace, Debleena Sarkar, Leian Kae Naduma, Nico Parungo, Necta Casiple, Jennifer Ong     4.051540e-07\n",
       "Sarah Sweeney, Metropolitan Diary                                                                              4.051540e-07\n",
       "Name: proportion, Length: 138857, dtype: float64"
      ]
     },
     "execution_count": 22,
     "metadata": {},
     "output_type": "execute_result"
    }
   ],
   "source": [
    "df[\"authors\"].value_counts(normalize=True)"
   ]
  }
 ],
 "metadata": {
  "kernelspec": {
   "display_name": "base",
   "language": "python",
   "name": "python3"
  },
  "language_info": {
   "codemirror_mode": {
    "name": "ipython",
    "version": 3
   },
   "file_extension": ".py",
   "mimetype": "text/x-python",
   "name": "python",
   "nbconvert_exporter": "python",
   "pygments_lexer": "ipython3",
   "version": "3.12.2"
  }
 },
 "nbformat": 4,
 "nbformat_minor": 2
}
