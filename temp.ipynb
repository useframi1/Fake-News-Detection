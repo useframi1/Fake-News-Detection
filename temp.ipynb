{
 "cells": [
  {
   "cell_type": "code",
   "execution_count": 32,
   "id": "a6bd8d44",
   "metadata": {},
   "outputs": [],
   "source": [
    "import pandas as pd\n",
    "from transformers import BertTokenizer\n",
    "import seaborn as sns\n",
    "import matplotlib.pyplot as plt\n",
    "import plotly.express as px"
   ]
  },
  {
   "cell_type": "code",
   "execution_count": null,
   "id": "edcd56e9",
   "metadata": {},
   "outputs": [],
   "source": [
    "df1 = pd.read_csv(\"data/news_dataset_all_2.csv\")\n",
    "df2 = pd.read_csv(\"data/news_dataset_all.csv\")"
   ]
  },
  {
   "cell_type": "code",
   "execution_count": null,
   "id": "1dba55e5",
   "metadata": {},
   "outputs": [],
   "source": [
    "df1.head()"
   ]
  },
  {
   "cell_type": "code",
   "execution_count": null,
   "id": "e321c372",
   "metadata": {},
   "outputs": [],
   "source": [
    "df1.shape"
   ]
  },
  {
   "cell_type": "code",
   "execution_count": null,
   "id": "173277c8",
   "metadata": {},
   "outputs": [],
   "source": [
    "df2.head()"
   ]
  },
  {
   "cell_type": "code",
   "execution_count": null,
   "id": "6d2f3bfc",
   "metadata": {},
   "outputs": [],
   "source": [
    "df2.shape"
   ]
  },
  {
   "cell_type": "code",
   "execution_count": null,
   "id": "b8b4bc7d",
   "metadata": {},
   "outputs": [],
   "source": [
    "duplicates = df2[df2.duplicated(subset=[\"type\", \"content\"], keep=False)]"
   ]
  },
  {
   "cell_type": "code",
   "execution_count": null,
   "id": "c17d2b4b",
   "metadata": {},
   "outputs": [],
   "source": [
    "duplicates.shape"
   ]
  },
  {
   "cell_type": "code",
   "execution_count": null,
   "id": "ae054860",
   "metadata": {},
   "outputs": [],
   "source": [
    "duplicates = df2[df2.duplicated(subset=[\"content\"], keep=False)]"
   ]
  },
  {
   "cell_type": "code",
   "execution_count": null,
   "id": "2fec0804",
   "metadata": {},
   "outputs": [],
   "source": [
    "duplicates.shape"
   ]
  },
  {
   "cell_type": "code",
   "execution_count": null,
   "id": "aefb804b",
   "metadata": {},
   "outputs": [],
   "source": [
    "df2 = df2.drop_duplicates(subset=[\"content\"], keep=\"last\")"
   ]
  },
  {
   "cell_type": "code",
   "execution_count": null,
   "id": "444d6801",
   "metadata": {},
   "outputs": [],
   "source": [
    "df2.shape"
   ]
  },
  {
   "cell_type": "code",
   "execution_count": null,
   "id": "bc682385",
   "metadata": {},
   "outputs": [],
   "source": [
    "print(f\"df1 types: {df1['type'].unique()}\")\n",
    "print(f\"df2 types: {df2['type'].unique()}\")"
   ]
  },
  {
   "cell_type": "code",
   "execution_count": null,
   "id": "a655c076",
   "metadata": {},
   "outputs": [],
   "source": [
    "df1.isna().sum()"
   ]
  },
  {
   "cell_type": "code",
   "execution_count": null,
   "id": "c2729aa7",
   "metadata": {},
   "outputs": [],
   "source": [
    "df2.isna().sum()"
   ]
  },
  {
   "cell_type": "code",
   "execution_count": null,
   "id": "ea8fb822",
   "metadata": {},
   "outputs": [],
   "source": [
    "df = pd.merge(left=df1, right=df2, how=\"left\", on=[\"type\", \"content\"])"
   ]
  },
  {
   "cell_type": "code",
   "execution_count": null,
   "id": "f5a82b6c",
   "metadata": {},
   "outputs": [],
   "source": [
    "df.shape"
   ]
  },
  {
   "cell_type": "code",
   "execution_count": null,
   "id": "9624a16a",
   "metadata": {},
   "outputs": [],
   "source": [
    "df.head()"
   ]
  },
  {
   "cell_type": "code",
   "execution_count": null,
   "id": "cf152ca2",
   "metadata": {},
   "outputs": [],
   "source": [
    "df.isna().sum()"
   ]
  },
  {
   "cell_type": "code",
   "execution_count": null,
   "id": "5f27de83",
   "metadata": {},
   "outputs": [],
   "source": [
    "null_rows = df[df[['token_count', 'language']].isnull().all(axis=1)]"
   ]
  },
  {
   "cell_type": "code",
   "execution_count": null,
   "id": "52de7067",
   "metadata": {},
   "outputs": [],
   "source": [
    "null_rows.shape"
   ]
  },
  {
   "cell_type": "code",
   "execution_count": null,
   "id": "d1d6b8d1",
   "metadata": {},
   "outputs": [],
   "source": [
    "null_rows.head()"
   ]
  },
  {
   "cell_type": "code",
   "execution_count": null,
   "id": "c59bd990",
   "metadata": {},
   "outputs": [],
   "source": [
    "tokenizer = BertTokenizer.from_pretrained(\"bert-base-uncased\")"
   ]
  },
  {
   "cell_type": "code",
   "execution_count": null,
   "id": "f653ba36",
   "metadata": {},
   "outputs": [],
   "source": [
    "tokenized_text_count = 0"
   ]
  },
  {
   "cell_type": "code",
   "execution_count": null,
   "id": "dc3f1b5e",
   "metadata": {},
   "outputs": [],
   "source": [
    "def tokenize_text(text):\n",
    "    global tokenized_text_count\n",
    "    tokenized_text_count += 1\n",
    "    print(tokenized_text_count)\n",
    "    return len(tokenizer.encode(text, truncation=False, padding=False))"
   ]
  },
  {
   "cell_type": "code",
   "execution_count": null,
   "id": "29c41aa7",
   "metadata": {},
   "outputs": [],
   "source": [
    "null_rows[\"token_count\"] = null_rows[\"content\"].apply(lambda x: tokenize_text(x))"
   ]
  },
  {
   "cell_type": "code",
   "execution_count": null,
   "id": "55f0a67f",
   "metadata": {},
   "outputs": [],
   "source": [
    "df.loc[null_rows.index, \"token_count\"] = null_rows[\"token_count\"]\n",
    "df.loc[null_rows.index, \"language\"] = \"en\""
   ]
  },
  {
   "cell_type": "code",
   "execution_count": null,
   "id": "1b868def",
   "metadata": {},
   "outputs": [],
   "source": [
    "df.isna().sum()"
   ]
  },
  {
   "cell_type": "code",
   "execution_count": null,
   "id": "335e9d1e",
   "metadata": {},
   "outputs": [],
   "source": [
    "df[\"language\"].value_counts()"
   ]
  },
  {
   "cell_type": "code",
   "execution_count": null,
   "id": "eb7fb8b8",
   "metadata": {},
   "outputs": [],
   "source": [
    "df.reset_index(drop=True, inplace=True)"
   ]
  },
  {
   "cell_type": "code",
   "execution_count": null,
   "id": "7e038bfe",
   "metadata": {},
   "outputs": [],
   "source": [
    "df.info()"
   ]
  },
  {
   "cell_type": "code",
   "execution_count": null,
   "id": "52fb875c",
   "metadata": {},
   "outputs": [],
   "source": [
    "df.head()"
   ]
  },
  {
   "cell_type": "code",
   "execution_count": null,
   "id": "3309f47f",
   "metadata": {},
   "outputs": [],
   "source": [
    "df.to_csv(\"data/news_dataset_all_3.csv\", index=False)"
   ]
  },
  {
   "cell_type": "code",
   "execution_count": null,
   "id": "dbe29f75",
   "metadata": {},
   "outputs": [],
   "source": [
    "df = pd.read_csv(\"data/news_dataset_all_3.csv\")"
   ]
  },
  {
   "cell_type": "code",
   "execution_count": null,
   "id": "a7e5f83e",
   "metadata": {},
   "outputs": [],
   "source": [
    "plt.figure(figsize=(10, 6))\n",
    "sns.boxplot(data=df, x=\"type\", y=\"token_count\")\n",
    "plt.title(\"Token Count Distribution by Type\")\n",
    "plt.xlabel(\"Type\")\n",
    "plt.ylabel(\"Token Count\")\n",
    "plt.xticks(rotation=45)\n",
    "plt.tight_layout()\n",
    "plt.show()"
   ]
  },
  {
   "cell_type": "code",
   "execution_count": null,
   "id": "8c869bb8",
   "metadata": {},
   "outputs": [],
   "source": [
    "less_than_512 = df[df[\"token_count\"] <= 512].copy()"
   ]
  },
  {
   "cell_type": "code",
   "execution_count": null,
   "id": "94fe3b29",
   "metadata": {},
   "outputs": [],
   "source": [
    "plt.figure(figsize=(10, 6))\n",
    "sns.boxplot(data=less_than_512, x=\"type\", y=\"token_count\")\n",
    "plt.title(\"Token Count Distribution by Type\")\n",
    "plt.xlabel(\"Type\")\n",
    "plt.ylabel(\"Token Count\")\n",
    "plt.xticks(rotation=45)\n",
    "plt.tight_layout()\n",
    "plt.show()"
   ]
  },
  {
   "cell_type": "code",
   "execution_count": null,
   "id": "92825eea",
   "metadata": {},
   "outputs": [],
   "source": [
    "df = less_than_512.copy()"
   ]
  },
  {
   "cell_type": "code",
   "execution_count": null,
   "id": "f8bd30c3",
   "metadata": {},
   "outputs": [],
   "source": [
    "df[\"domain\"].value_counts(normalize=True)"
   ]
  },
  {
   "cell_type": "code",
   "execution_count": null,
   "id": "9db9fcaf",
   "metadata": {},
   "outputs": [],
   "source": [
    "# Calculate the count of each domain, normalized to get proportions\n",
    "domain_counts = df['domain'].value_counts(normalize=True)\n",
    "\n",
    "# Filter out domains that are less than 1% of the data\n",
    "valid_domains = domain_counts[domain_counts > 0.007].index\n",
    "\n",
    "# Filter the dataframe to include only rows with valid domains\n",
    "df_filtered = df[df['domain'].isin(valid_domains)]"
   ]
  },
  {
   "cell_type": "code",
   "execution_count": null,
   "id": "df46b776",
   "metadata": {},
   "outputs": [],
   "source": [
    "prop_df = df_filtered.groupby(['type', 'domain']).size().reset_index(name='count')\n",
    "prop_df['proportion'] = prop_df.groupby('type')['count'].transform(lambda x: x / x.sum())"
   ]
  },
  {
   "cell_type": "code",
   "execution_count": null,
   "id": "d2b46d45",
   "metadata": {},
   "outputs": [],
   "source": [
    "plt.figure(figsize=(8, 6))\n",
    "sns.barplot(x='type', y='proportion', hue='domain', data=prop_df)\n",
    "\n",
    "# Customize plot\n",
    "plt.title('Proportions of Each Domain Within Each Type')\n",
    "plt.xlabel('Type')\n",
    "plt.ylabel('Proportion')\n",
    "plt.legend(title='Domain', loc='upper right')\n",
    "plt.tight_layout()\n",
    "plt.show()"
   ]
  },
  {
   "cell_type": "code",
   "execution_count": null,
   "id": "d5edbddb",
   "metadata": {},
   "outputs": [],
   "source": [
    "df[\"authors\"].value_counts(normalize=True)"
   ]
  },
  {
   "cell_type": "code",
   "execution_count": null,
   "id": "0552d5a2",
   "metadata": {},
   "outputs": [],
   "source": [
    "df[\"authors\"].fillna(\"unknown\", inplace=True)"
   ]
  },
  {
   "cell_type": "code",
   "execution_count": null,
   "id": "416bc7af",
   "metadata": {},
   "outputs": [],
   "source": [
    "df.head()"
   ]
  },
  {
   "cell_type": "code",
   "execution_count": null,
   "id": "9eb7c73f",
   "metadata": {},
   "outputs": [],
   "source": [
    "df.isna().sum()"
   ]
  },
  {
   "cell_type": "code",
   "execution_count": null,
   "id": "644a8ed6",
   "metadata": {},
   "outputs": [],
   "source": [
    "df = df[df[\"language\"] == \"en\"].copy()"
   ]
  },
  {
   "cell_type": "code",
   "execution_count": null,
   "id": "2ae8daad",
   "metadata": {},
   "outputs": [],
   "source": [
    "category_counts = df[\"type\"].value_counts().reset_index()\n",
    "category_counts.columns = [\"Type\", \"Count\"]\n",
    "\n",
    "fig = px.bar(\n",
    "    category_counts,\n",
    "    x=\"Type\",\n",
    "    y=\"Count\",\n",
    "    text=\"Count\",\n",
    "    title=\"Label Distribution\",\n",
    "    labels={\"Type\": \"Label\", \"Count\": \"Frequency\"},\n",
    ")\n",
    "\n",
    "# Update bar color\n",
    "fig.update_traces(marker_color=\"#f45c4e\", textfont_color=\"white\")\n",
    "\n",
    "# Update layout for dark theme\n",
    "fig.update_layout(\n",
    "    plot_bgcolor=\"rgba(0,0,0,0)\",  # Transparent plot background\n",
    "    paper_bgcolor=\"rgba(0,0,0,0)\",  # Transparent overall background\n",
    "    font=dict(color=\"white\"),\n",
    "    title_font=dict(color=\"white\"),\n",
    "    xaxis=dict(showgrid=False, tickfont=dict(color=\"white\")),\n",
    "    yaxis=dict(showgrid=False, tickfont=dict(color=\"white\")),\n",
    ")\n",
    "\n",
    "fig.show()"
   ]
  },
  {
   "cell_type": "code",
   "execution_count": null,
   "id": "3d39fbe8",
   "metadata": {},
   "outputs": [],
   "source": [
    "def make_as_others(label):\n",
    "    if label == \"satire\" or label == \"junksci\" or label == \"unknown\":\n",
    "        return \"other\"\n",
    "    else:\n",
    "        return label"
   ]
  },
  {
   "cell_type": "code",
   "execution_count": null,
   "id": "cce813b1",
   "metadata": {},
   "outputs": [],
   "source": [
    "df[\"type\"] = df[\"type\"].apply(lambda x: make_as_others(x))"
   ]
  },
  {
   "cell_type": "code",
   "execution_count": null,
   "id": "daa4dd02",
   "metadata": {},
   "outputs": [],
   "source": [
    "df = df[df[\"type\"] != \"political\"].copy()"
   ]
  },
  {
   "cell_type": "code",
   "execution_count": null,
   "id": "6ca2b314",
   "metadata": {},
   "outputs": [],
   "source": [
    "df.reset_index(drop=True, inplace=True)"
   ]
  },
  {
   "cell_type": "code",
   "execution_count": null,
   "id": "2512fc98",
   "metadata": {},
   "outputs": [],
   "source": [
    "category_counts = df[\"type\"].value_counts().reset_index()\n",
    "category_counts.columns = [\"Type\", \"Count\"]\n",
    "\n",
    "fig = px.bar(\n",
    "    category_counts,\n",
    "    x=\"Type\",\n",
    "    y=\"Count\",\n",
    "    text=\"Count\",\n",
    "    title=\"Label Distribution\",\n",
    "    labels={\"Type\": \"Label\", \"Count\": \"Frequency\"},\n",
    ")\n",
    "\n",
    "# Update bar color\n",
    "fig.update_traces(marker_color=\"#f45c4e\", textfont_color=\"white\")\n",
    "\n",
    "# Update layout for dark theme\n",
    "fig.update_layout(\n",
    "    plot_bgcolor=\"rgba(0,0,0,0)\",  # Transparent plot background\n",
    "    paper_bgcolor=\"rgba(0,0,0,0)\",  # Transparent overall background\n",
    "    font=dict(color=\"white\"),\n",
    "    title_font=dict(color=\"white\"),\n",
    "    xaxis=dict(showgrid=False, tickfont=dict(color=\"white\")),\n",
    "    yaxis=dict(showgrid=False, tickfont=dict(color=\"white\")),\n",
    ")\n",
    "\n",
    "fig.show()"
   ]
  },
  {
   "cell_type": "code",
   "execution_count": null,
   "id": "cfe4ca3b",
   "metadata": {},
   "outputs": [],
   "source": [
    "df.head()"
   ]
  },
  {
   "cell_type": "code",
   "execution_count": null,
   "id": "bb63007f",
   "metadata": {},
   "outputs": [],
   "source": [
    "df[[\"content\", \"domain\", \"authors\", \"type\"]].to_csv(\"data/news_dataset_all_refactored.csv\", index=False)"
   ]
  },
  {
   "cell_type": "code",
   "execution_count": null,
   "id": "872dde01",
   "metadata": {},
   "outputs": [],
   "source": []
  }
 ],
 "metadata": {
  "kernelspec": {
   "display_name": "Python 3",
   "language": "python",
   "name": "python3"
  },
  "language_info": {
   "codemirror_mode": {
    "name": "ipython",
    "version": 3
   },
   "file_extension": ".py",
   "mimetype": "text/x-python",
   "name": "python",
   "nbconvert_exporter": "python",
   "pygments_lexer": "ipython3",
   "version": "3.13.2"
  }
 },
 "nbformat": 4,
 "nbformat_minor": 5
}
