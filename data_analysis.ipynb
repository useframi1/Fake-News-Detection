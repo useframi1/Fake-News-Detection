{
 "cells": [
  {
   "cell_type": "markdown",
   "metadata": {},
   "source": [
    "---\n",
    "---\n",
    "\n",
    "# **Data Cleaning and Analysis**\n",
    "\n",
    "---\n",
    "\n",
    "---\n"
   ]
  },
  {
   "cell_type": "markdown",
   "metadata": {},
   "source": [
    "Import Libraries\n"
   ]
  },
  {
   "cell_type": "code",
   "execution_count": 1,
   "metadata": {},
   "outputs": [],
   "source": [
    "import pandas as pd\n",
    "import numpy as np\n",
    "import plotly.express as px\n",
    "import plotly.graph_objects as go\n",
    "from transformers import BertTokenizer\n",
    "\n",
    "# import fasttext"
   ]
  },
  {
   "cell_type": "markdown",
   "metadata": {},
   "source": [
    "---\n",
    "---\n",
    "\n",
    "## **All Data**\n",
    "\n",
    "---\n",
    "\n",
    "---\n"
   ]
  },
  {
   "cell_type": "markdown",
   "metadata": {},
   "source": [
    "### **Cleaning**\n"
   ]
  },
  {
   "cell_type": "code",
   "execution_count": null,
   "metadata": {},
   "outputs": [],
   "source": [
    "df = pd.read_csv(\"data/news_cleaned_2018_02_13.csv\")"
   ]
  },
  {
   "cell_type": "code",
   "execution_count": null,
   "metadata": {},
   "outputs": [],
   "source": [
    "df.shape"
   ]
  },
  {
   "cell_type": "code",
   "execution_count": null,
   "metadata": {},
   "outputs": [],
   "source": [
    "df.head()"
   ]
  },
  {
   "cell_type": "code",
   "execution_count": null,
   "metadata": {},
   "outputs": [],
   "source": [
    "df.info()"
   ]
  },
  {
   "cell_type": "code",
   "execution_count": null,
   "metadata": {},
   "outputs": [],
   "source": [
    "df.isna().sum()"
   ]
  },
  {
   "cell_type": "code",
   "execution_count": null,
   "metadata": {},
   "outputs": [],
   "source": [
    "df.dropna(subset=[\"content\", \"type\"], inplace=True)"
   ]
  },
  {
   "cell_type": "code",
   "execution_count": null,
   "metadata": {},
   "outputs": [],
   "source": [
    "df.isna().sum()"
   ]
  },
  {
   "cell_type": "code",
   "execution_count": null,
   "metadata": {},
   "outputs": [],
   "source": [
    "df.shape"
   ]
  },
  {
   "cell_type": "code",
   "execution_count": null,
   "metadata": {},
   "outputs": [],
   "source": [
    "df = df[[\"id\", \"content\", \"domain\", \"title\", \"authors\", \"meta_keywords\", \"type\"]]"
   ]
  },
  {
   "cell_type": "code",
   "execution_count": null,
   "metadata": {},
   "outputs": [],
   "source": [
    "duplicates = df[df.duplicated(subset=[\"content\", \"type\"], keep=False)]"
   ]
  },
  {
   "cell_type": "code",
   "execution_count": null,
   "metadata": {},
   "outputs": [],
   "source": [
    "duplicates.shape"
   ]
  },
  {
   "cell_type": "code",
   "execution_count": null,
   "metadata": {},
   "outputs": [],
   "source": [
    "duplicates.head()"
   ]
  },
  {
   "cell_type": "code",
   "execution_count": null,
   "metadata": {},
   "outputs": [],
   "source": [
    "df = df.drop_duplicates(subset=[\"content\", \"type\"], keep=\"last\")"
   ]
  },
  {
   "cell_type": "code",
   "execution_count": null,
   "metadata": {},
   "outputs": [],
   "source": [
    "df.shape"
   ]
  },
  {
   "cell_type": "code",
   "execution_count": null,
   "metadata": {},
   "outputs": [],
   "source": [
    "duplicates = df[df.duplicated(subset=[\"content\"], keep=False)]"
   ]
  },
  {
   "cell_type": "code",
   "execution_count": null,
   "metadata": {},
   "outputs": [],
   "source": [
    "duplicates.shape"
   ]
  },
  {
   "cell_type": "code",
   "execution_count": null,
   "metadata": {},
   "outputs": [],
   "source": [
    "duplicates.head(10)"
   ]
  },
  {
   "cell_type": "code",
   "execution_count": null,
   "metadata": {},
   "outputs": [],
   "source": [
    "result = duplicates.groupby(\"content\").filter(lambda x: x[\"type\"].nunique() > 1)"
   ]
  },
  {
   "cell_type": "code",
   "execution_count": null,
   "metadata": {},
   "outputs": [],
   "source": [
    "result.shape"
   ]
  },
  {
   "cell_type": "code",
   "execution_count": null,
   "metadata": {},
   "outputs": [],
   "source": [
    "result.head(5)"
   ]
  },
  {
   "cell_type": "code",
   "execution_count": null,
   "metadata": {},
   "outputs": [],
   "source": [
    "df = df.drop_duplicates(subset=[\"content\"], keep=\"last\")"
   ]
  },
  {
   "cell_type": "code",
   "execution_count": null,
   "metadata": {},
   "outputs": [],
   "source": [
    "df.reset_index(drop=True, inplace=True)"
   ]
  },
  {
   "cell_type": "code",
   "execution_count": null,
   "metadata": {},
   "outputs": [],
   "source": [
    "df.info()"
   ]
  },
  {
   "cell_type": "code",
   "execution_count": null,
   "metadata": {},
   "outputs": [],
   "source": [
    "df.to_csv(\"data/news_dataset_all_2.csv\", index=False)"
   ]
  },
  {
   "cell_type": "code",
   "execution_count": null,
   "metadata": {},
   "outputs": [],
   "source": [
    "df = df.dropna()"
   ]
  },
  {
   "cell_type": "code",
   "execution_count": null,
   "metadata": {},
   "outputs": [],
   "source": [
    "df = pd.read_csv(\"data/news_dataset_all_2.csv\")"
   ]
  },
  {
   "cell_type": "code",
   "execution_count": null,
   "metadata": {},
   "outputs": [],
   "source": [
    "df[\"type\"].unique()"
   ]
  },
  {
   "cell_type": "code",
   "execution_count": null,
   "metadata": {},
   "outputs": [],
   "source": [
    "df = df[\n",
    "    df[\"type\"].isin(\n",
    "        [\n",
    "            \"reliable\",\n",
    "            \"political\",\n",
    "            \"bias\",\n",
    "            \"conspiracy\",\n",
    "            \"fake\",\n",
    "            \"junksci\",\n",
    "            \"rumor\",\n",
    "            \"satire\",\n",
    "            \"unknown\",\n",
    "            \"unreliable\",\n",
    "        ]\n",
    "    )\n",
    "]"
   ]
  },
  {
   "cell_type": "code",
   "execution_count": null,
   "metadata": {},
   "outputs": [],
   "source": [
    "df.shape"
   ]
  },
  {
   "cell_type": "code",
   "execution_count": null,
   "metadata": {},
   "outputs": [],
   "source": [
    "category_counts = df[\"type\"].value_counts().reset_index()\n",
    "category_counts.columns = [\"Type\", \"Count\"]\n",
    "\n",
    "fig = px.bar(\n",
    "    category_counts,\n",
    "    x=\"Type\",\n",
    "    y=\"Count\",\n",
    "    text=\"Count\",\n",
    "    title=\"Label Distribution\",\n",
    "    labels={\"Type\": \"Label\", \"Count\": \"Frequency\"},\n",
    ")\n",
    "\n",
    "# Update bar color\n",
    "fig.update_traces(marker_color=\"#f45c4e\", textfont_color=\"white\")\n",
    "\n",
    "# Update layout for dark theme\n",
    "fig.update_layout(\n",
    "    plot_bgcolor=\"rgba(0,0,0,0)\",  # Transparent plot background\n",
    "    paper_bgcolor=\"rgba(0,0,0,0)\",  # Transparent overall background\n",
    "    font=dict(color=\"white\"),\n",
    "    title_font=dict(color=\"white\"),\n",
    "    xaxis=dict(showgrid=False, tickfont=dict(color=\"white\")),\n",
    "    yaxis=dict(showgrid=False, tickfont=dict(color=\"white\")),\n",
    ")\n",
    "\n",
    "fig.show()"
   ]
  },
  {
   "cell_type": "code",
   "execution_count": null,
   "metadata": {},
   "outputs": [],
   "source": [
    "df.isna().sum()"
   ]
  },
  {
   "cell_type": "code",
   "execution_count": null,
   "metadata": {},
   "outputs": [],
   "source": [
    "df.head()"
   ]
  },
  {
   "cell_type": "code",
   "execution_count": null,
   "metadata": {},
   "outputs": [],
   "source": [
    "df.info()"
   ]
  },
  {
   "cell_type": "code",
   "execution_count": null,
   "metadata": {},
   "outputs": [],
   "source": [
    "df.reset_index(drop=True, inplace=True)"
   ]
  },
  {
   "cell_type": "code",
   "execution_count": null,
   "metadata": {},
   "outputs": [],
   "source": [
    "df.to_csv(\"data/news_dataset_all_2.csv\", index=False)"
   ]
  },
  {
   "cell_type": "markdown",
   "metadata": {},
   "source": [
    "### **Language Detection**\n"
   ]
  },
  {
   "cell_type": "code",
   "execution_count": null,
   "metadata": {},
   "outputs": [],
   "source": [
    "model = fasttext.load_model(\"/home/g03-s2025/lid.176.bin\")"
   ]
  },
  {
   "cell_type": "code",
   "execution_count": null,
   "metadata": {},
   "outputs": [],
   "source": [
    "processed_text_count = 0"
   ]
  },
  {
   "cell_type": "code",
   "execution_count": null,
   "metadata": {},
   "outputs": [],
   "source": [
    "def detect_language(text):\n",
    "    text = text.replace(\"\\n\", \" \")\n",
    "    predictions = model.predict(text)\n",
    "    prediction = predictions[0][0].replace(\"__label__\", \"\")\n",
    "    global processed_text_count\n",
    "    processed_text_count += 1\n",
    "    print(processed_text_count)\n",
    "    return prediction"
   ]
  },
  {
   "cell_type": "code",
   "execution_count": null,
   "metadata": {},
   "outputs": [],
   "source": [
    "df[\"language\"] = df[\"content\"].apply(\n",
    "    lambda x: detect_language(str(x)) if pd.notnull(x) else None\n",
    ")"
   ]
  },
  {
   "cell_type": "code",
   "execution_count": null,
   "metadata": {},
   "outputs": [],
   "source": [
    "category_counts = df[\"language\"].value_counts().reset_index()\n",
    "category_counts.columns = [\"Language\", \"Count\"]\n",
    "\n",
    "fig = px.bar(\n",
    "    category_counts,\n",
    "    x=\"Language\",\n",
    "    y=\"Count\",\n",
    "    text=\"Count\",\n",
    "    title=\"Language Distribution\",\n",
    "    labels={\"Language\": \"Language\", \"Count\": \"Frequency\"},\n",
    ")\n",
    "\n",
    "# Update bar color\n",
    "fig.update_traces(marker_color=\"#f45c4e\", textfont_color=\"white\")\n",
    "\n",
    "# Update layout for dark theme\n",
    "fig.update_layout(\n",
    "    plot_bgcolor=\"rgba(0,0,0,0)\",  # Transparent plot background\n",
    "    paper_bgcolor=\"rgba(0,0,0,0)\",  # Transparent overall background\n",
    "    font=dict(color=\"white\"),\n",
    "    title_font=dict(color=\"white\"),\n",
    "    xaxis=dict(showgrid=False, tickfont=dict(color=\"white\")),\n",
    "    yaxis=dict(showgrid=False, tickfont=dict(color=\"white\")),\n",
    ")\n",
    "\n",
    "fig.show()"
   ]
  },
  {
   "cell_type": "code",
   "execution_count": null,
   "metadata": {},
   "outputs": [],
   "source": [
    "df = df[df[\"language\"] == \"en\"]"
   ]
  },
  {
   "cell_type": "code",
   "execution_count": null,
   "metadata": {},
   "outputs": [],
   "source": [
    "df.reset_index(drop=True, inplace=True)"
   ]
  },
  {
   "cell_type": "code",
   "execution_count": null,
   "metadata": {},
   "outputs": [],
   "source": [
    "df.drop(columns=[\"language\"], inplace=True)"
   ]
  },
  {
   "cell_type": "code",
   "execution_count": null,
   "metadata": {},
   "outputs": [],
   "source": [
    "category_counts = df[\"type\"].value_counts().reset_index()\n",
    "category_counts.columns = [\"Type\", \"Count\"]\n",
    "\n",
    "fig = px.bar(\n",
    "    category_counts,\n",
    "    x=\"Type\",\n",
    "    y=\"Count\",\n",
    "    text=\"Count\",\n",
    "    title=\"Label Distribution\",\n",
    "    labels={\"Type\": \"Label\", \"Count\": \"Frequency\"},\n",
    ")\n",
    "\n",
    "# Update bar color\n",
    "fig.update_traces(marker_color=\"#f45c4e\", textfont_color=\"white\")\n",
    "\n",
    "# Update layout for dark theme\n",
    "fig.update_layout(\n",
    "    plot_bgcolor=\"rgba(0,0,0,0)\",  # Transparent plot background\n",
    "    paper_bgcolor=\"rgba(0,0,0,0)\",  # Transparent overall background\n",
    "    font=dict(color=\"white\"),\n",
    "    title_font=dict(color=\"white\"),\n",
    "    xaxis=dict(showgrid=False, tickfont=dict(color=\"white\")),\n",
    "    yaxis=dict(showgrid=False, tickfont=dict(color=\"white\")),\n",
    ")\n",
    "\n",
    "fig.show()"
   ]
  },
  {
   "cell_type": "code",
   "execution_count": null,
   "metadata": {},
   "outputs": [],
   "source": [
    "df.to_csv(\"data/news_dataset_all_refactored.csv\", index=False)"
   ]
  },
  {
   "cell_type": "markdown",
   "metadata": {},
   "source": [
    "### **Tokenization**\n"
   ]
  },
  {
   "cell_type": "code",
   "execution_count": null,
   "metadata": {},
   "outputs": [],
   "source": [
    "tokenizer = BertTokenizer.from_pretrained(\"bert-base-uncased\")"
   ]
  },
  {
   "cell_type": "code",
   "execution_count": null,
   "metadata": {},
   "outputs": [],
   "source": [
    "tokenized_text_count = 0"
   ]
  },
  {
   "cell_type": "code",
   "execution_count": null,
   "metadata": {},
   "outputs": [],
   "source": [
    "def tokenize_text(text):\n",
    "    global tokenized_text_count\n",
    "    tokenized_text_count += 1\n",
    "    print(tokenized_text_count)\n",
    "    return len(tokenizer.encode(text, truncation=False, padding=False))"
   ]
  },
  {
   "cell_type": "code",
   "execution_count": null,
   "metadata": {},
   "outputs": [],
   "source": [
    "df[\"token_count\"] = df[\"content\"].apply(lambda x: tokenize_text(x))"
   ]
  },
  {
   "cell_type": "code",
   "execution_count": null,
   "metadata": {},
   "outputs": [],
   "source": [
    "fig = go.Figure()\n",
    "\n",
    "fig.add_trace(\n",
    "    go.Histogram(\n",
    "        x=df[\"token_count\"],\n",
    "        nbinsx=500,\n",
    "        name=\"Token Count Distribution\",\n",
    "        marker_color=\"#f45c4e\",  # Set bar color\n",
    "    )\n",
    ")\n",
    "\n",
    "fig.update_layout(\n",
    "    title=\"Token Count Distribution with Percentiles\",\n",
    "    xaxis_title=\"Token Count\",\n",
    "    yaxis_title=\"Frequency\",\n",
    "    plot_bgcolor=\"rgba(0,0,0,0)\",  # Transparent plot background\n",
    "    paper_bgcolor=\"rgba(0,0,0,0)\",  # Transparent overall background\n",
    "    font=dict(color=\"white\"),  # White text\n",
    "    title_font=dict(color=\"white\"),\n",
    "    xaxis=dict(showgrid=False, tickfont=dict(color=\"white\")),\n",
    "    yaxis=dict(showgrid=False, tickfont=dict(color=\"white\")),\n",
    ")\n",
    "\n",
    "fig.show()"
   ]
  },
  {
   "cell_type": "code",
   "execution_count": null,
   "metadata": {},
   "outputs": [],
   "source": [
    "less_than_512 = df[df[\"token_count\"] <= 512].copy()"
   ]
  },
  {
   "cell_type": "code",
   "execution_count": null,
   "metadata": {},
   "outputs": [],
   "source": [
    "category_counts = less_than_512[\"type\"].value_counts().reset_index()\n",
    "category_counts.columns = [\"Type\", \"Count\"]\n",
    "\n",
    "fig = px.bar(\n",
    "    category_counts,\n",
    "    x=\"Type\",\n",
    "    y=\"Count\",\n",
    "    text=\"Count\",\n",
    "    title=\"Label Distribution\",\n",
    "    labels={\"Type\": \"Label\", \"Count\": \"Frequency\"},\n",
    ")\n",
    "\n",
    "# Update bar color\n",
    "fig.update_traces(marker_color=\"#f45c4e\", textfont_color=\"white\")\n",
    "\n",
    "# Update layout for dark theme\n",
    "fig.update_layout(\n",
    "    plot_bgcolor=\"rgba(0,0,0,0)\",  # Transparent plot background\n",
    "    paper_bgcolor=\"rgba(0,0,0,0)\",  # Transparent overall background\n",
    "    font=dict(color=\"white\"),\n",
    "    title_font=dict(color=\"white\"),\n",
    "    xaxis=dict(showgrid=False, tickfont=dict(color=\"white\")),\n",
    "    yaxis=dict(showgrid=False, tickfont=dict(color=\"white\")),\n",
    ")\n",
    "\n",
    "fig.show()"
   ]
  },
  {
   "cell_type": "code",
   "execution_count": null,
   "metadata": {},
   "outputs": [],
   "source": [
    "def make_as_others(label):\n",
    "    if label == \"satire\" or label == \"junksci\" or label == \"unknown\":\n",
    "        return \"other\"\n",
    "    else:\n",
    "        return label"
   ]
  },
  {
   "cell_type": "code",
   "execution_count": null,
   "metadata": {},
   "outputs": [],
   "source": [
    "less_than_512[\"type\"] = less_than_512[\"type\"].apply(lambda x: make_as_others(x))"
   ]
  },
  {
   "cell_type": "code",
   "execution_count": null,
   "metadata": {},
   "outputs": [],
   "source": [
    "category_counts = less_than_512[\"type\"].value_counts().reset_index()\n",
    "category_counts.columns = [\"Type\", \"Count\"]\n",
    "\n",
    "fig = px.bar(\n",
    "    category_counts,\n",
    "    x=\"Type\",\n",
    "    y=\"Count\",\n",
    "    text=\"Count\",\n",
    "    title=\"Label Distribution\",\n",
    "    labels={\"Type\": \"Label\", \"Count\": \"Frequency\"},\n",
    ")\n",
    "\n",
    "# Update bar color\n",
    "fig.update_traces(marker_color=\"#f45c4e\", textfont_color=\"white\")\n",
    "\n",
    "# Update layout for dark theme\n",
    "fig.update_layout(\n",
    "    plot_bgcolor=\"rgba(0,0,0,0)\",  # Transparent plot background\n",
    "    paper_bgcolor=\"rgba(0,0,0,0)\",  # Transparent overall background\n",
    "    font=dict(color=\"white\"),\n",
    "    title_font=dict(color=\"white\"),\n",
    "    xaxis=dict(showgrid=False, tickfont=dict(color=\"white\")),\n",
    "    yaxis=dict(showgrid=False, tickfont=dict(color=\"white\")),\n",
    ")\n",
    "\n",
    "fig.show()"
   ]
  },
  {
   "cell_type": "code",
   "execution_count": null,
   "metadata": {},
   "outputs": [],
   "source": [
    "df = less_than_512.copy()"
   ]
  },
  {
   "cell_type": "code",
   "execution_count": null,
   "metadata": {},
   "outputs": [],
   "source": [
    "df.reset_index(drop=True, inplace=True)"
   ]
  },
  {
   "cell_type": "code",
   "execution_count": null,
   "metadata": {},
   "outputs": [],
   "source": [
    "df.info()"
   ]
  },
  {
   "cell_type": "code",
   "execution_count": null,
   "metadata": {},
   "outputs": [],
   "source": [
    "df.to_csv(\"data/news_dataset_all_refactored.csv\", index=False)"
   ]
  },
  {
   "cell_type": "markdown",
   "metadata": {},
   "source": [
    "### **Sampling**\n"
   ]
  },
  {
   "cell_type": "code",
   "execution_count": 2,
   "metadata": {},
   "outputs": [],
   "source": [
    "df = pd.read_csv(\"data/news_dataset_all_refactored.csv\")"
   ]
  },
  {
   "cell_type": "code",
   "execution_count": 3,
   "metadata": {},
   "outputs": [
    {
     "data": {
      "text/plain": [
       "type\n",
       "reliable      925532\n",
       "fake          425765\n",
       "bias          354055\n",
       "conspiracy    280798\n",
       "rumor         273374\n",
       "other         178076\n",
       "unreliable     30597\n",
       "Name: count, dtype: int64"
      ]
     },
     "execution_count": 3,
     "metadata": {},
     "output_type": "execute_result"
    }
   ],
   "source": [
    "df[\"type\"].value_counts()"
   ]
  },
  {
   "cell_type": "code",
   "execution_count": 4,
   "metadata": {},
   "outputs": [],
   "source": [
    "SAMPLE_SIZE = 5"
   ]
  },
  {
   "cell_type": "code",
   "execution_count": null,
   "metadata": {},
   "outputs": [],
   "source": [
    "# min_count = df[\"type\"].value_counts().min()\n",
    "# sample_size_per_label = min(SAMPLE_SIZE, min_count)"
   ]
  },
  {
   "cell_type": "code",
   "execution_count": 5,
   "metadata": {},
   "outputs": [
    {
     "name": "stderr",
     "output_type": "stream",
     "text": [
      "/var/folders/yf/v551qfjj6kv_0hzcql5wjr7w0000gn/T/ipykernel_7283/3063759013.py:1: DeprecationWarning: DataFrameGroupBy.apply operated on the grouping columns. This behavior is deprecated, and in a future version of pandas the grouping columns will be excluded from the operation. Either pass `include_groups=False` to exclude the groupings or explicitly select the grouping columns after groupby to silence this warning.\n",
      "  sampled_df = df.groupby(\"type\", group_keys=False).apply(\n"
     ]
    }
   ],
   "source": [
    "sampled_df = df.groupby(\"type\", group_keys=False).apply(\n",
    "    lambda x: x.sample(n=min(len(x), SAMPLE_SIZE), random_state=42)\n",
    ")"
   ]
  },
  {
   "cell_type": "code",
   "execution_count": 6,
   "metadata": {},
   "outputs": [
    {
     "data": {
      "text/plain": [
       "type\n",
       "bias          5\n",
       "conspiracy    5\n",
       "fake          5\n",
       "other         5\n",
       "reliable      5\n",
       "rumor         5\n",
       "unreliable    5\n",
       "Name: count, dtype: int64"
      ]
     },
     "execution_count": 6,
     "metadata": {},
     "output_type": "execute_result"
    }
   ],
   "source": [
    "sampled_df[\"type\"].value_counts()"
   ]
  },
  {
   "cell_type": "code",
   "execution_count": null,
   "metadata": {},
   "outputs": [],
   "source": [
    "# sampled_df = pd.concat(sampled_dfs).reset_index(drop=True)"
   ]
  },
  {
   "cell_type": "code",
   "execution_count": 7,
   "metadata": {},
   "outputs": [],
   "source": [
    "sampled_df.reset_index(drop=True, inplace=True)"
   ]
  },
  {
   "cell_type": "code",
   "execution_count": 8,
   "metadata": {},
   "outputs": [
    {
     "name": "stdout",
     "output_type": "stream",
     "text": [
      "<class 'pandas.core.frame.DataFrame'>\n",
      "RangeIndex: 35 entries, 0 to 34\n",
      "Data columns (total 4 columns):\n",
      " #   Column   Non-Null Count  Dtype \n",
      "---  ------   --------------  ----- \n",
      " 0   content  35 non-null     object\n",
      " 1   domain   35 non-null     object\n",
      " 2   authors  35 non-null     object\n",
      " 3   type     35 non-null     object\n",
      "dtypes: object(4)\n",
      "memory usage: 1.2+ KB\n"
     ]
    }
   ],
   "source": [
    "sampled_df.info()"
   ]
  },
  {
   "cell_type": "code",
   "execution_count": 9,
   "metadata": {},
   "outputs": [],
   "source": [
    "sampled_df.rename(columns={\"type\": \"label\"}, inplace=True)"
   ]
  },
  {
   "cell_type": "code",
   "execution_count": 10,
   "metadata": {},
   "outputs": [],
   "source": [
    "def preprocess_data(content_series, author_series):\n",
    "    \"\"\"\n",
    "    Combine author and content text with [SEP] token for BERT processing\n",
    "\n",
    "    Args:\n",
    "        content_series: Series containing the text content\n",
    "        author_series: Series containing author information\n",
    "\n",
    "    Returns:\n",
    "        combined_texts: Series containing \"author [SEP] content\" text\n",
    "    \"\"\"\n",
    "    combined_texts = author_series.astype(str) + \" [SEP] \" + content_series.astype(str)\n",
    "    return combined_texts"
   ]
  },
  {
   "cell_type": "code",
   "execution_count": 11,
   "metadata": {},
   "outputs": [],
   "source": [
    "combined_texts = preprocess_data(sampled_df[\"content\"], sampled_df[\"authors\"])"
   ]
  },
  {
   "cell_type": "code",
   "execution_count": 12,
   "metadata": {},
   "outputs": [
    {
     "data": {
      "text/plain": [
       "0    unknown [SEP] by: otterwood\\n\\nThe surge in Ca...\n",
       "1    unknown [SEP] Several Republican and Democrati...\n",
       "2    Margarita Bogatova [SEP] Internet, gadget, gam...\n",
       "3    unknown [SEP] Democrats voted unanimously to s...\n",
       "4    unknown [SEP] Jump to: navigation\\n\\nWhat link...\n",
       "dtype: object"
      ]
     },
     "execution_count": 12,
     "metadata": {},
     "output_type": "execute_result"
    }
   ],
   "source": [
    "combined_texts.head()"
   ]
  },
  {
   "cell_type": "code",
   "execution_count": 13,
   "metadata": {},
   "outputs": [],
   "source": [
    "sampled_df[\"combined_texts\"] = combined_texts\n",
    "sampled_df.drop(columns=[\"content\", \"authors\", \"domain\"], inplace=True)"
   ]
  },
  {
   "cell_type": "code",
   "execution_count": 14,
   "metadata": {},
   "outputs": [
    {
     "data": {
      "application/vnd.microsoft.datawrangler.viewer.v0+json": {
       "columns": [
        {
         "name": "index",
         "rawType": "int64",
         "type": "integer"
        },
        {
         "name": "label",
         "rawType": "object",
         "type": "string"
        },
        {
         "name": "combined_texts",
         "rawType": "object",
         "type": "string"
        }
       ],
       "conversionMethod": "pd.DataFrame",
       "ref": "60d3178d-0d25-4da9-8958-b8e12105ee2f",
       "rows": [
        [
         "0",
         "bias",
         "unknown [SEP] by: otterwood\n\nThe surge in Canadian house prices has been well documented, notably in the white hot markets of Toronto and Vancouver. In June prices rose 2.3% nationwide led by Vancouver which exceeded 2% for the fifth straight month in a row. The chart below shows the increasing divergence between markets like Toronto and Vancouver and the rest of Canada.\n\nThe debate over the source of Vancouver’s surging house price has focused primarily on purchases by wealthy foreign buyers, see here. To gain support for this idea the BC government tracked the nationality of residential housing purchasers in the province between June 10 and July 14. The early data showed foreigners accounted for $$1 billion in purchases with 5% foreign buyers in the Vancouver region.\n\nArticle Continues Below\n\nTo slow foreign demand the BC provincial government has added a 15% tax on houses purchased by foreigners. This translates into an extra $$300,000 tax for a foreigner buying a $$2 million house. The City of Vancouver is also planning on adding a tax on empty homes after a study revealed that there were roughly 10,800 empty homes in the city as of 2014.\n\nFor more details see the related Globe & Mail article here.\n\nFollow IWB on Facebook and Twitter Follow @InvestWatchBlog\n\n\n\n62 views"
        ],
        [
         "1",
         "bias",
         "unknown [SEP] Several Republican and Democratic lawmakers have sent a letter to President Obama urging him to approve lethal aid to Ukraine, according to US House of Representatives Speaker John Boehner.\n\n© AP Photo/ Chairman of the Joint Chiefs US ‘Obsessed’ With Providing Arms to Ukraine - US Senator\n\nWASHINGTON (Sputnik) — US bipartisan lawmakers are asking US President Barack Obama to provide Ukraine with lethal weapons, US House of Representatives Speaker John Boehner announced in a statement on Thursday.\n\n\"A bipartisan group of House leaders and committee chairs has sent a letter to President Obama urging him to approve lethal aid to Ukraine,\" the statement read.\n\nOn Wednesday, several Republican and Democratic lawmakers sent a letter to Obama urging him to \"quickly approve additional efforts to support Ukraine’s efforts to defend its sovereign territory, including through the transfer of lethal, defensive weapons systems to the Ukraine military.\"\n\nThe lawmakers accused Obama of not using his full authority outlined in the Ukraine Freedom Support Act that would allow him to provide Kiev with defense military systems.\n\n© AFP 2017/ VANO SHLAMOV Ukraine Needs US to Buy Arms on World Market\n\nIn December, Obama signed into law the Ukraine Freedom Support Act that authorizes providing lethal assistance to Kiev and introducing new sanctions against Russia.\n\nRussian officials have condemned the law, arguing that Moscow would implement retaliatory measures if the full provisions of the bill are implemented.\n\n\"The Congress has already, with overwhelming bipartisan support, provided you with the authorities, resources, and political support to provide assistance, including lethal, to the government and people of Ukraine,\" the lawmakers said.\n\nThe lawmakers concluded by urging Obama to use the provided authorities and resources to meet the specific and direct requests that the Ukrainian government has made."
        ],
        [
         "2",
         "bias",
         "Margarita Bogatova [SEP] Internet, gadget, game addiction growing menace\n\nThe global market in mobile communication devices is at 1.5bln each year. The number of Internet users is in the billions. In China alone, the connections are at over 500mln, and in Russia, at 70mln. Many people get so deeply sucked into the online world that they lose contact with the real one.\n\nIn China, a middle-aged man tried to put an end to the online game addiction of his 23-year-old unemployed son by hiring Internet killers to eliminate the son’s gaming characters. Successive eliminations, however, did nothing to cure the addiction and persuade the lad to find a job.\n\nAnother young Chinese man died of exhaustion after spending three days on end in an Internet café. Yet another young man survived 27 days in an Internet café, but did not live to see the 28th day. A similar death in Taiwan long stayed unnoticed, because the gamer did not change his position at the monitor after he died.\n\nOften ignored or even encouraged by parents, early gadget mania seriously hampers the socialization of the sufferer.\n\nRussian psychologist Dr Natalya Tolstaya speaks about the neurophysiological nature of the affliction:\n\n\"Gaming creates positive emotion, linked to high blood levels of substances known as endorphins. Addiction arises, similar to that observed in drug addicts.\"\n\nDr Tolstaya also says there is no curing an Internet or game addiction without turning the addict’s attention to the offline world. And in this, only efforts by the addict’s family and close friends can be of help."
        ],
        [
         "3",
         "bias",
         "unknown [SEP] Democrats voted unanimously to scrub the names of Thomas Jefferson and Andrew Jackson from one of its annual fundraising dinners because those names have ties to slavery. As the Connecticut Post reports, the vote happened Wednesday night in Hartford and was in direct response to last month's Charleston church shootings.\n\nThe renaming of the Connecticut state fundraiser dinner, nearly 70-years-old, is said to have been spurred by pressure from the NAACP because of the history of slave ownership by Jefferson and Jackson, coupled with Jackson's treatment of Native Americans during the Trail of Tears.\n\nAnd the party's chairman, Nick Balletto, hopes the change will spark others to do the same:\n\nI see it as the right thing to do. I wasn’t looking to be a trailblazer or set off a trend that’s going to affect the rest of the country. Hopefully, they’ll follow suit when they see it’s the right thing to do.\n\nThe name change is expected in the fall. John Bailey, the third name in the list, will most likely be retained, according to the report. Bailey was DNC chairman under both John F. Kennedy and Lyndon B. Johnson.\n\nA law professor at the Jefferson-founded University of Virgina who criticized the change as a decision that is \"sad and short-sighted\" and \"based upon tragic ignorance.\" Robert Turner told the Post, “If (Democrats) understood Jefferson’s lifelong opposition to slavery, they would have reached a different conclusion.”"
        ],
        [
         "4",
         "bias",
         "unknown [SEP] Jump to: navigation\n\nWhat links here Page: Namespace: all (Main) Talk User User talk Conservapedia Conservapedia talk File File talk MediaWiki MediaWiki talk Template Template talk Help Help talk Category Category talk Sysop Sysop talk Team1 Team1 talk Team2 Team2 talk Judges Judges talk Am Govt 101 Am Govt 101 talk Supply Siders Supply Siders talk\n\nFilters Hide transclusions | Hide links | Hide redirects\n\nThe following pages link to Edward R. Murrow:\n\nView (previous 50 | next 50) ( 20 500 ) View (previous 50 | next 50) ( 20"
        ]
       ],
       "shape": {
        "columns": 2,
        "rows": 5
       }
      },
      "text/html": [
       "<div>\n",
       "<style scoped>\n",
       "    .dataframe tbody tr th:only-of-type {\n",
       "        vertical-align: middle;\n",
       "    }\n",
       "\n",
       "    .dataframe tbody tr th {\n",
       "        vertical-align: top;\n",
       "    }\n",
       "\n",
       "    .dataframe thead th {\n",
       "        text-align: right;\n",
       "    }\n",
       "</style>\n",
       "<table border=\"1\" class=\"dataframe\">\n",
       "  <thead>\n",
       "    <tr style=\"text-align: right;\">\n",
       "      <th></th>\n",
       "      <th>label</th>\n",
       "      <th>combined_texts</th>\n",
       "    </tr>\n",
       "  </thead>\n",
       "  <tbody>\n",
       "    <tr>\n",
       "      <th>0</th>\n",
       "      <td>bias</td>\n",
       "      <td>unknown [SEP] by: otterwood\\n\\nThe surge in Ca...</td>\n",
       "    </tr>\n",
       "    <tr>\n",
       "      <th>1</th>\n",
       "      <td>bias</td>\n",
       "      <td>unknown [SEP] Several Republican and Democrati...</td>\n",
       "    </tr>\n",
       "    <tr>\n",
       "      <th>2</th>\n",
       "      <td>bias</td>\n",
       "      <td>Margarita Bogatova [SEP] Internet, gadget, gam...</td>\n",
       "    </tr>\n",
       "    <tr>\n",
       "      <th>3</th>\n",
       "      <td>bias</td>\n",
       "      <td>unknown [SEP] Democrats voted unanimously to s...</td>\n",
       "    </tr>\n",
       "    <tr>\n",
       "      <th>4</th>\n",
       "      <td>bias</td>\n",
       "      <td>unknown [SEP] Jump to: navigation\\n\\nWhat link...</td>\n",
       "    </tr>\n",
       "  </tbody>\n",
       "</table>\n",
       "</div>"
      ],
      "text/plain": [
       "  label                                     combined_texts\n",
       "0  bias  unknown [SEP] by: otterwood\\n\\nThe surge in Ca...\n",
       "1  bias  unknown [SEP] Several Republican and Democrati...\n",
       "2  bias  Margarita Bogatova [SEP] Internet, gadget, gam...\n",
       "3  bias  unknown [SEP] Democrats voted unanimously to s...\n",
       "4  bias  unknown [SEP] Jump to: navigation\\n\\nWhat link..."
      ]
     },
     "execution_count": 14,
     "metadata": {},
     "output_type": "execute_result"
    }
   ],
   "source": [
    "sampled_df.head()"
   ]
  },
  {
   "cell_type": "code",
   "execution_count": 15,
   "metadata": {},
   "outputs": [],
   "source": [
    "sampled_df.to_csv(\"data/sampled_dataset.csv\", index=False)"
   ]
  }
 ],
 "metadata": {
  "kernelspec": {
   "display_name": "Python 3",
   "language": "python",
   "name": "python3"
  },
  "language_info": {
   "codemirror_mode": {
    "name": "ipython",
    "version": 3
   },
   "file_extension": ".py",
   "mimetype": "text/x-python",
   "name": "python",
   "nbconvert_exporter": "python",
   "pygments_lexer": "ipython3",
   "version": "3.12.10"
  }
 },
 "nbformat": 4,
 "nbformat_minor": 2
}
